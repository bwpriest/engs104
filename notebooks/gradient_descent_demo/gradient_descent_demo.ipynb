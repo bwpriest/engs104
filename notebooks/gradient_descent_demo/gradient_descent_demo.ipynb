{
 "cells": [
  {
   "cell_type": "markdown",
   "metadata": {},
   "source": [
    "<h1>Demo description</h1>\n",
    "\n",
    "**Presenter**: Ben Priest\n",
    "\n",
    "In this demonstration, we examine how to implement gradient descent in Python. We will use the Ackley function as an example test for optimization example, making clear where another function may be swapped out.\n",
    "\n",
    "<h3>Note</h3>\n",
    "\n",
    "The purpose of providing this code is to make a python version of some of the Matlab code that we've worked on in class available to everyone. Please bear in mind the honor principle when doing homework. \n",
    "\n",
    "I also provide no guarantees that this code is bug-free."
   ]
  },
  {
   "cell_type": "code",
   "execution_count": null,
   "metadata": {
    "collapsed": false
   },
   "outputs": [],
   "source": [
    "%matplotlib inline\n",
    "\n",
    "import cProfile as profile\n",
    "import itertools\n",
    "import random\n",
    "import matplotlib.pyplot as plt\n",
    "import numpy as np\n",
    "import operator\n",
    "\n",
    "from mpl_toolkits.mplot3d import Axes3D"
   ]
  },
  {
   "cell_type": "markdown",
   "metadata": {},
   "source": [
    "<h2>Ackley function</h2>\n",
    "\n",
    "These functions all compute the ackley function, a common multidimensional test surface for optimization algorithms. This implementation is agnostic with respect to the number of dimensions over which it is computed, although typically 2 dimensions are used for ease of visualization. \n",
    "\n",
    "add text \n",
    "\n",
    "We presuppose the values of the parameters for the ackley function in the function heading as keyworded arguments. Different values may be provided at execution by passing new values to the specified keywords."
   ]
  },
  {
   "cell_type": "markdown",
   "metadata": {},
   "source": [
    "<h3>vanilla_ackley</h3>\n",
    "\n",
    "This implementation is the same as the standard Matlab implementation examined in ENGS 104 on 9/24/15. "
   ]
  },
  {
   "cell_type": "code",
   "execution_count": null,
   "metadata": {
    "collapsed": true
   },
   "outputs": [],
   "source": [
    "def vanilla_ackley(x, a=20.0, b=0.2, c=2.0*np.pi):\n",
    "    s1 = 0\n",
    "    s2 = 0\n",
    "    n = len(x)\n",
    "    for i in range(n):\n",
    "        s1 = s1 + x[i]**2.0\n",
    "        s2 = s2 + np.cos(c*x[i])\n",
    "    return -a*np.exp(-b*np.sqrt(s1/n)) - np.exp(s2/n) + a + np.exp(1)"
   ]
  },
  {
   "cell_type": "markdown",
   "metadata": {},
   "source": [
    "<h3>pythonic_ackley</h3>\n",
    "\n",
    "We can improve on the performance of vanilla ackley be computing it pythonically. Performance suffers in vanilla ackley for large values of n (dimensions of x) because of the overhead introduced in the for loop. This is especially true in Matlab, because of how Matlab implements control code. \n",
    "\n",
    "High-dimensional x are unlikely for this particular application, but it is still a useful example for demonstrating how to improve the efficiency of certain computations using functional constructs. "
   ]
  },
  {
   "cell_type": "code",
   "execution_count": null,
   "metadata": {
    "collapsed": false
   },
   "outputs": [],
   "source": [
    "def pythonic_ackley(x, a=20.0, b=0.2, c=2.0*np.pi):\n",
    "    n = len(x)\n",
    "    s1 = np.sum(np.array([i**2.0 for i in x]))\n",
    "    s2 = np.sum(np.array([np.cos(c*i) for i in x]))\n",
    "    return -a*np.exp(-b*np.sqrt(s1/n)) - np.exp(s2/n) + a + np.exp(1)"
   ]
  },
  {
   "cell_type": "markdown",
   "metadata": {},
   "source": [
    "<h3>Efficiency Check</h3>\n",
    "\n",
    "Let's check the efficiency of the two functions with respect to the dimension of the input. We will profile each implementation's performance evaluating 100 random samples, each of dimension 5000. \n",
    "\n",
    "While it is not a perfect comparison, I clocked the Matlab code from class performing the same calculations in about 3.084s.  "
   ]
  },
  {
   "cell_type": "code",
   "execution_count": null,
   "metadata": {
    "collapsed": false
   },
   "outputs": [],
   "source": [
    "dim = 5000\n",
    "n_samples = 100\n",
    "\n",
    "Y = [[random.uniform(-5,5) for i in range(dim)] for j in range(n_samples)]"
   ]
  },
  {
   "cell_type": "code",
   "execution_count": null,
   "metadata": {
    "collapsed": false
   },
   "outputs": [],
   "source": [
    "profile.run('map(vanilla_ackley,Y)')"
   ]
  },
  {
   "cell_type": "code",
   "execution_count": null,
   "metadata": {
    "collapsed": false
   },
   "outputs": [],
   "source": [
    "profile.run('map(pythonic_ackley,Y)')"
   ]
  },
  {
   "cell_type": "markdown",
   "metadata": {},
   "source": [
    "<h3>Sanity Check</h3>\n",
    "\n",
    "We'll now make sure that these two compute the same function."
   ]
  },
  {
   "cell_type": "code",
   "execution_count": null,
   "metadata": {
    "collapsed": false
   },
   "outputs": [],
   "source": [
    "# apply vanilla_ackley to each of the samples\n",
    "vs = map(vanilla_ackley, Y)\n",
    "\n",
    "# apply pythonic_ackley to each of the samples\n",
    "ps = map(pythonic_ackley, Y)\n",
    "\n",
    "# check for equivalence\n",
    "all(map(lambda x: x[0] == x[1], zip(vs,ps)))"
   ]
  },
  {
   "cell_type": "markdown",
   "metadata": {},
   "source": [
    "<h3>Plotting the results</h3>\n",
    "\n",
    "Similar to in class, we'll verify out function by plotting the resulting surface over $[-5,5] \\times [-5, 5]$. Using the standard matplotlib scipy plotting library, this is much the same as plotting in Matlab. "
   ]
  },
  {
   "cell_type": "code",
   "execution_count": null,
   "metadata": {
    "collapsed": false
   },
   "outputs": [],
   "source": [
    "fig = plt.figure()\n",
    "ax = fig.add_subplot(111, projection='3d')\n",
    "x = y = np.arange(-5.0, 5.0, 0.05)\n",
    "X, Y = np.meshgrid(x, y)\n",
    "zs = np.array([pythonic_ackley([x,y]) for x,y in zip(np.ravel(X), np.ravel(Y))])\n",
    "Z = zs.reshape(X.shape)\n",
    "\n",
    "ax.plot_surface(X, Y, Z)\n",
    "\n",
    "ax.set_xlabel('X')\n",
    "ax.set_ylabel('Y')\n",
    "ax.set_zlabel('Ackley Value')\n",
    "\n",
    "plt.show()"
   ]
  },
  {
   "cell_type": "code",
   "execution_count": null,
   "metadata": {
    "collapsed": false
   },
   "outputs": [],
   "source": [
    "#fig = plt.figure()\n",
    "#ax = fig.add_subplot(111, projection='3d')\n",
    "x = y = np.arange(-5.0, 5.0, 0.05)\n",
    "X, Y = np.meshgrid(x, y)\n",
    "zs = np.array([pythonic_ackley([x,y]) for x,y in zip(np.ravel(X), np.ravel(Y))])\n",
    "Z = zs.reshape(X.shape)\n",
    "\n",
    "fig = plt.figure()\n",
    "CS = plt.contour(X, Y, Z)\n",
    "plt.clabel(CS, inline=1, fontsize=10)\n",
    "plt.title('Simplest default with labels')\n",
    "\n",
    "#ax.plot_surface(X, Y, Z)\n",
    "\n",
    "#ax.set_xlabel('X')\n",
    "#ax.set_ylabel('Y')\n",
    "#ax.set_zlabel('Ackley Value')\n",
    "\n",
    "plt.show()"
   ]
  },
  {
   "cell_type": "markdown",
   "metadata": {},
   "source": [
    "<h2>Gradient Function</h2>\n",
    "\n",
    "We can define a gradient estimation function that can operate agnostically of the actual underlying function. So, we can use the same gradient estimation code in conjunction with either of the above implementations of the ackley function, or with any other function $f$ such that $f: \\mathbb{R}^n \\rightarrow \\mathbb{R}$."
   ]
  },
  {
   "cell_type": "code",
   "execution_count": null,
   "metadata": {
    "collapsed": true
   },
   "outputs": [],
   "source": [
    "def gradient(f, x, eps=0.0001):\n",
    "    return [(f([x[j] + eps if j == i else x[j] for j in range(len(x))]) - f(x))/eps for i in range(len(x))]"
   ]
  },
  {
   "cell_type": "markdown",
   "metadata": {},
   "source": [
    "<h3>Why does this work?</h3>\n",
    "\n",
    "We pass a function **f** to **gradient**, as well as a vector-valued test point **x** and some scalar epsilon **eps**. Gradient computes a first-order approximation of the partial derivative with respect to each element of **x** and returns a vector of these values."
   ]
  },
  {
   "cell_type": "code",
   "execution_count": null,
   "metadata": {
    "collapsed": false
   },
   "outputs": [],
   "source": [
    "gradient(pythonic_ackley, [0.1,-0.6])"
   ]
  },
  {
   "cell_type": "markdown",
   "metadata": {},
   "source": [
    "<h2>Gradient Descent</h2>\n",
    "\n",
    "We can now implement gradient descent in the usual way. We will here implement vanilla gradient descent, not varying the $\\epsilon$ or $\\alpha$ update parameters, and also not checking for convergence. This approach can be easily extended to support a particle swarm or simulated annealing approach."
   ]
  },
  {
   "cell_type": "code",
   "execution_count": null,
   "metadata": {
    "collapsed": true
   },
   "outputs": [],
   "source": [
    "def vanilla_gd(f, x, epsilon=0.0001, alpha=0.001, its=1000):\n",
    "    for i in range(its):\n",
    "        x = map(operator.sub, x, alpha * np.array(gradient(f, x, eps=epsilon)))\n",
    "    return x"
   ]
  },
  {
   "cell_type": "code",
   "execution_count": null,
   "metadata": {
    "collapsed": false
   },
   "outputs": [],
   "source": [
    "vanilla_gd(pythonic_ackley, [0.3, -0.2], alpha=0.001, its=50000)"
   ]
  },
  {
   "cell_type": "code",
   "execution_count": null,
   "metadata": {
    "collapsed": false
   },
   "outputs": [],
   "source": [
    "pythonic_ackley([0,0])"
   ]
  },
  {
   "cell_type": "code",
   "execution_count": null,
   "metadata": {
    "collapsed": false
   },
   "outputs": [],
   "source": [
    "pythonic_ackley([0.013573552847734038, -0.013636680083916997])"
   ]
  },
  {
   "cell_type": "markdown",
   "metadata": {
    "collapsed": true
   },
   "source": [
    "<h3>Other functions</h3>\n",
    "\n",
    "We can easily swap in other functions and analyze them. The only requirements are stated above."
   ]
  },
  {
   "cell_type": "code",
   "execution_count": null,
   "metadata": {
    "collapsed": true
   },
   "outputs": [],
   "source": [
    "def sphere(x):\n",
    "    return np.sum(np.array([i**2 for i in x]))"
   ]
  },
  {
   "cell_type": "code",
   "execution_count": null,
   "metadata": {
    "collapsed": true
   },
   "outputs": [],
   "source": [
    "vanilla_gd(sphere, [322, -33], alpha=0.01, its=50000)"
   ]
  }
 ],
 "metadata": {
  "kernelspec": {
   "display_name": "Python 2",
   "language": "python",
   "name": "python2"
  },
  "language_info": {
   "codemirror_mode": {
    "name": "ipython",
    "version": 2
   },
   "file_extension": ".py",
   "mimetype": "text/x-python",
   "name": "python",
   "nbconvert_exporter": "python",
   "pygments_lexer": "ipython2",
   "version": "2.7.10"
  }
 },
 "nbformat": 4,
 "nbformat_minor": 0
}
