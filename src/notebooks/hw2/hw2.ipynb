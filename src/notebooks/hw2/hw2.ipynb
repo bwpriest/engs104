{
 "cells": [
  {
   "cell_type": "markdown",
   "metadata": {},
   "source": [
    "<h1>Homework 1</h1>\n",
    "\n",
    "**Ben Priest**"
   ]
  },
  {
   "cell_type": "code",
   "execution_count": 1,
   "metadata": {
    "collapsed": false
   },
   "outputs": [],
   "source": [
    "%matplotlib inline\n",
    "\n",
    "import cProfile as profile\n",
    "import csv\n",
    "import itertools\n",
    "import matplotlib.pyplot as plt\n",
    "import numpy as np\n",
    "import operator\n",
    "import random\n",
    "\n",
    "from mpl_toolkits.mplot3d import Axes3D\n",
    "from scipy.optimize import linprog\n",
    "from scipy.optimize import minimize"
   ]
  },
  {
   "cell_type": "markdown",
   "metadata": {},
   "source": [
    "<h2>Problem #1</h2>\n",
    "\n",
    "We'll consider a $35 \\times 100$ matrix $a$, a $35 \\times 1$ vector $b$, and a $1 \\times 100$ vector $c$, that form an augmented linear program\n",
    "\n",
    "$$\\min\\limits_{x} c^T x \\text{ such that } a x = b, x \\geq 0$$\n",
    "\n",
    "This data was scraped from the matlab file 'a2p1.mat' on 10/21/2015."
   ]
  },
  {
   "cell_type": "code",
   "execution_count": 2,
   "metadata": {
    "collapsed": false
   },
   "outputs": [],
   "source": [
    "a = np.array([[ float(e) for e in r ] for r in csv.reader(open('a.csv','r'))])\n",
    "b = np.array([ float(e) for r in csv.reader(open('b.csv','r')) for e in r ])\n",
    "c = np.array([ float(e) for r in csv.reader(open('c.csv','r')) for e in r ])"
   ]
  },
  {
   "cell_type": "code",
   "execution_count": 3,
   "metadata": {
    "collapsed": false
   },
   "outputs": [
    {
     "data": {
      "text/plain": [
       "(35, 100)"
      ]
     },
     "execution_count": 3,
     "metadata": {},
     "output_type": "execute_result"
    }
   ],
   "source": [
    "a.shape"
   ]
  },
  {
   "cell_type": "code",
   "execution_count": 4,
   "metadata": {
    "collapsed": false
   },
   "outputs": [
    {
     "data": {
      "text/plain": [
       "(35,)"
      ]
     },
     "execution_count": 4,
     "metadata": {},
     "output_type": "execute_result"
    }
   ],
   "source": [
    "b.shape"
   ]
  },
  {
   "cell_type": "code",
   "execution_count": 5,
   "metadata": {
    "collapsed": false
   },
   "outputs": [
    {
     "data": {
      "text/plain": [
       "(100,)"
      ]
     },
     "execution_count": 5,
     "metadata": {},
     "output_type": "execute_result"
    }
   ],
   "source": [
    "c.shape"
   ]
  },
  {
   "cell_type": "markdown",
   "metadata": {
    "collapsed": true
   },
   "source": [
    "<h4>Part a</h4>\n",
    "\n",
    "Which feasible solution has the largest value for $x_{23}$?"
   ]
  },
  {
   "cell_type": "markdown",
   "metadata": {},
   "source": [
    "This is equivalent to solving a linear program for $\\max\\limits_{x} x_{23} = \\min\\limits_{x} -x_{23} = \\min\\limits_{x} z^T x\\text{ such that } a x = b, x \\geq 0$, where $z$ is a 100-vector that is all zeros aside from the 23nd index."
   ]
  },
  {
   "cell_type": "code",
   "execution_count": 6,
   "metadata": {
    "collapsed": true
   },
   "outputs": [],
   "source": [
    "z = np.zeros(100)\n",
    "# python is zero-indexed\n",
    "z[22] = -1 \n",
    "\n",
    "res = linprog(z, A_eq=a, b_eq=b)"
   ]
  },
  {
   "cell_type": "code",
   "execution_count": 7,
   "metadata": {
    "collapsed": false
   },
   "outputs": [
    {
     "data": {
      "text/plain": [
       "  status: 0\n",
       "   slack: array([], dtype=float64)\n",
       " success: True\n",
       "     fun: -8.5924258923984382\n",
       "       x: array([ 0.        ,  0.        ,  3.93622133,  1.30625061,  0.        ,\n",
       "        0.        ,  1.19647077,  3.02889908,  3.87036001,  0.        ,\n",
       "        0.        ,  0.        ,  0.        ,  0.        ,  0.        ,\n",
       "        0.02827089,  0.        ,  0.        ,  0.        ,  0.        ,\n",
       "        0.        ,  0.        ,  8.59242589,  0.        ,  1.10863903,\n",
       "        0.        ,  0.        ,  1.92965866,  0.        ,  0.        ,\n",
       "        0.        ,  1.98187971,  1.60509049,  0.38054515,  0.44489388,\n",
       "        0.        ,  0.        ,  0.        ,  0.        ,  0.74622897,\n",
       "        0.72346105,  0.        ,  0.        ,  0.        ,  0.        ,\n",
       "        0.        ,  0.        ,  0.        ,  0.        ,  0.        ,\n",
       "        4.76483911,  0.        ,  0.        ,  0.        ,  0.        ,\n",
       "        0.93443441,  0.        ,  2.03123235,  0.        ,  1.93909095,\n",
       "        0.        ,  0.        ,  0.07266661,  0.        ,  0.        ,\n",
       "        1.009766  ,  0.        ,  0.        ,  0.        ,  1.12240133,\n",
       "        1.69151393,  0.        ,  0.        ,  2.9559527 ,  1.56675152,\n",
       "        0.        ,  0.73016409,  0.        ,  1.31249332,  3.42552541,\n",
       "        0.        ,  0.        ,  0.82022291,  0.        ,  0.08135112,\n",
       "        0.        ,  2.05838376,  1.17673826,  0.63447685,  0.        ,\n",
       "        0.        ,  0.        ,  0.        ,  0.        ,  0.19322988,\n",
       "        3.29700246,  0.        ,  0.        ,  0.        ,  0.        ])\n",
       " message: 'Optimization terminated successfully.'\n",
       "     nit: 91"
      ]
     },
     "execution_count": 7,
     "metadata": {},
     "output_type": "execute_result"
    }
   ],
   "source": [
    "res"
   ]
  },
  {
   "cell_type": "code",
   "execution_count": 8,
   "metadata": {
    "collapsed": false
   },
   "outputs": [
    {
     "data": {
      "text/plain": [
       "8.5924258923984382"
      ]
     },
     "execution_count": 8,
     "metadata": {},
     "output_type": "execute_result"
    }
   ],
   "source": [
    "# the found value of X_23\n",
    "res.x[22]"
   ]
  },
  {
   "cell_type": "markdown",
   "metadata": {},
   "source": [
    "<h4>Part b</h4>\n",
    "\n",
    "Is there a basic feasible solution involving $x_4$, $x_{12}$, and $x_{23}$?"
   ]
  },
  {
   "cell_type": "markdown",
   "metadata": {},
   "source": [
    "We can solve this by solving the linear program $\\min\\limits_{x} -x_{4} - x_{12} - x_{23}$ subject to the same constraints as above. If we find a solution with all $x_4$, $x_{12}$, and $x_{23}$ nonzero, and it is basic, then there is a basic feasible solution that satisfies."
   ]
  },
  {
   "cell_type": "code",
   "execution_count": 9,
   "metadata": {
    "collapsed": true
   },
   "outputs": [],
   "source": [
    "z = np.zeros(100)\n",
    "# python is zero-indexed\n",
    "z[3] = -1\n",
    "z[11] = -1\n",
    "z[22] = -1 \n",
    "\n",
    "\n",
    "res = linprog(z, A_eq=a, b_eq=b)"
   ]
  },
  {
   "cell_type": "code",
   "execution_count": 10,
   "metadata": {
    "collapsed": false
   },
   "outputs": [
    {
     "data": {
      "text/plain": [
       "  status: 0\n",
       "   slack: array([], dtype=float64)\n",
       " success: True\n",
       "     fun: -13.443532689018927\n",
       "       x: array([ 0.        ,  0.53702382,  0.        ,  4.6389822 ,  0.        ,\n",
       "        0.        ,  1.58526227,  4.86140993,  2.62967004,  0.        ,\n",
       "        0.        ,  4.75232388,  0.        ,  0.        ,  1.22856433,\n",
       "        0.        ,  0.        ,  0.        ,  0.        ,  0.        ,\n",
       "        0.        ,  0.        ,  4.0522266 ,  0.        ,  0.        ,\n",
       "        0.23267487,  0.        ,  0.12673547,  0.25657547,  0.        ,\n",
       "        0.        ,  0.        ,  1.54675732,  4.24092059,  0.44182966,\n",
       "        0.        ,  0.        ,  1.45337192,  0.        ,  0.54327878,\n",
       "        0.        ,  0.        ,  0.        ,  0.12492917,  1.19988925,\n",
       "        0.        ,  0.        ,  0.        ,  0.        ,  0.        ,\n",
       "        3.02843832,  0.32339163,  0.        ,  0.        ,  0.        ,\n",
       "        0.        ,  0.        ,  2.86069631,  0.        ,  0.        ,\n",
       "        0.        ,  0.        ,  2.80763919,  0.99564763,  0.        ,\n",
       "        0.24331055,  0.        ,  0.        ,  0.        ,  0.        ,\n",
       "        0.        ,  0.63633598,  0.        ,  4.03812617,  1.78290094,\n",
       "        0.        ,  0.        ,  0.        ,  0.        ,  0.        ,\n",
       "        0.69767104,  0.        ,  0.        ,  0.        ,  1.5714662 ,\n",
       "        0.        ,  0.19346732,  0.        ,  0.        ,  0.        ,\n",
       "        1.36162892,  0.        ,  0.86367176,  0.        ,  1.35598698,\n",
       "        2.74413219,  0.        ,  0.        ,  0.82060863,  0.        ])\n",
       " message: 'Optimization terminated successfully.'\n",
       "     nit: 102"
      ]
     },
     "execution_count": 10,
     "metadata": {},
     "output_type": "execute_result"
    }
   ],
   "source": [
    "res"
   ]
  },
  {
   "cell_type": "code",
   "execution_count": 11,
   "metadata": {
    "collapsed": false
   },
   "outputs": [
    {
     "data": {
      "text/plain": [
       "[4.6389822040478421, 4.7523238801119394, 4.0522266048591398]"
      ]
     },
     "execution_count": 11,
     "metadata": {},
     "output_type": "execute_result"
    }
   ],
   "source": [
    "# the found value of X_4, X_12, and X_23\n",
    "x = res.x\n",
    "[x[r] for r in {3,11,22}]"
   ]
  },
  {
   "cell_type": "code",
   "execution_count": 12,
   "metadata": {
    "collapsed": false
   },
   "outputs": [
    {
     "data": {
      "text/plain": [
       "35"
      ]
     },
     "execution_count": 12,
     "metadata": {},
     "output_type": "execute_result"
    }
   ],
   "source": [
    "np.count_nonzero(x)"
   ]
  },
  {
   "cell_type": "markdown",
   "metadata": {},
   "source": [
    "This feasible solution is basic because it has 35 nonzero dimensions, so the answer is yes."
   ]
  },
  {
   "cell_type": "markdown",
   "metadata": {},
   "source": [
    "<h4>Part c</h4>\n",
    "\n",
    "Solve the augmented linear program"
   ]
  },
  {
   "cell_type": "code",
   "execution_count": 13,
   "metadata": {
    "collapsed": true
   },
   "outputs": [],
   "source": [
    "res = linprog(c, A_eq=a, b_eq=b)"
   ]
  },
  {
   "cell_type": "code",
   "execution_count": 14,
   "metadata": {
    "collapsed": false
   },
   "outputs": [
    {
     "data": {
      "text/plain": [
       "array([ 0.        ,  0.        ,  0.        ,  1.13492442,  0.        ,\n",
       "        0.        ,  0.        ,  0.50217379,  0.        ,  0.        ,\n",
       "        0.        ,  0.        ,  0.        ,  2.06965076,  0.        ,\n",
       "        2.48111523,  1.48392496,  0.        ,  0.        ,  0.27533822,\n",
       "        0.        ,  0.        ,  0.        ,  2.0342084 ,  0.        ,\n",
       "        2.00286292,  0.        ,  0.        ,  0.        ,  0.38956924,\n",
       "        0.        ,  0.        ,  2.13170453,  3.24469159,  0.        ,\n",
       "        0.        ,  0.        ,  3.39287932,  0.        ,  1.78083144,\n",
       "        1.07619792,  0.        ,  3.7390614 ,  0.        ,  0.        ,\n",
       "        0.        ,  0.        ,  0.        ,  1.80502029,  2.61576445,\n",
       "        0.73098908,  0.        ,  0.        ,  0.        ,  0.        ,\n",
       "        0.        ,  0.        ,  4.02537994,  0.        ,  0.        ,\n",
       "        0.37007931,  0.        ,  2.01148093,  0.        ,  0.05557866,\n",
       "        1.43534867,  0.        ,  0.        ,  0.        ,  0.        ,\n",
       "        0.        ,  0.16421981,  0.        ,  0.        ,  0.19062191,\n",
       "        0.        ,  0.90415557,  0.        ,  0.        ,  1.08064558,\n",
       "        0.        ,  0.        ,  0.        ,  1.00845135,  4.93023118,\n",
       "        0.        ,  2.07144853,  1.15118827,  0.        ,  0.        ,\n",
       "        2.40311956,  0.        ,  0.        ,  1.90955652,  0.        ,\n",
       "        0.18641388,  1.72191983,  0.        ,  0.        ,  0.        ])"
      ]
     },
     "execution_count": 14,
     "metadata": {},
     "output_type": "execute_result"
    }
   ],
   "source": [
    "res.x"
   ]
  },
  {
   "cell_type": "markdown",
   "metadata": {},
   "source": [
    "<h2>Problem #2</h2>\n",
    "\n",
    "For the same $a$, $b$, and $c$ as above:"
   ]
  },
  {
   "cell_type": "markdown",
   "metadata": {},
   "source": [
    "<h4>Part a</h4>\n",
    "\n",
    "Solve\n",
    "$$\\min\\limits_{y} \\| y * a - c \\|_{\\infty}$$ "
   ]
  },
  {
   "cell_type": "markdown",
   "metadata": {},
   "source": [
    "We know that $\\ell_\\infty$ minimization has a closed form:\n",
    "\n",
    "$$\\min\\limits_{y} \\| y * a - c \\|_{\\infty} = \\min_x \\left\\{ \\max_i \\left\\{ |a_i x - b_i | \\right\\} \\right\\}$$ \n",
    "\n",
    "So the problem becomes $\\min \\alpha$ such that $\\left\\{ a_ix - b_i \\leq \\alpha \\wedge -a_i x + b_i \\leq \\alpha \\right\\}$."
   ]
  },
  {
   "cell_type": "code",
   "execution_count": 15,
   "metadata": {
    "collapsed": false
   },
   "outputs": [
    {
     "data": {
      "text/plain": [
       "  status: 0\n",
       "   slack: array([  3.15778329e-14,   3.38932580e-14,   1.20855900e-14,\n",
       "         0.00000000e+00,   1.42131084e-14,   0.00000000e+00,\n",
       "         2.97317555e-14,   0.00000000e+00,   1.37876048e-14,\n",
       "         7.88176455e-15,   0.00000000e+00,   0.00000000e+00,\n",
       "         6.81553559e-15,   0.00000000e+00,   1.37876048e-14,\n",
       "         0.00000000e+00,   0.00000000e+00,   0.00000000e+00,\n",
       "         0.00000000e+00,   2.31234459e-14,   0.00000000e+00,\n",
       "         1.37876048e-14,   0.00000000e+00,   1.37754012e-14,\n",
       "         2.23203228e-15,   0.00000000e+00,   0.00000000e+00,\n",
       "         1.91934080e-14,   0.00000000e+00,   1.92562788e-14,\n",
       "         1.38004287e-14,   0.00000000e+00,   1.64347437e-14,\n",
       "         0.00000000e+00,   1.37937066e-14,   0.00000000e+00,\n",
       "         0.00000000e+00,   0.00000000e+00,   1.31369451e-14,\n",
       "         0.00000000e+00,   2.24608357e-14,   0.00000000e+00,\n",
       "         1.37876048e-14,   0.00000000e+00,   0.00000000e+00,\n",
       "         0.00000000e+00,   1.48676343e-14,   0.00000000e+00,\n",
       "         1.52771616e-14,   0.00000000e+00,   1.37876048e-14,\n",
       "         1.37876048e-14,   1.13510801e-14,   1.38330871e-14,\n",
       "         0.00000000e+00,   1.70143325e-14,   0.00000000e+00,\n",
       "         1.37876048e-14,   0.00000000e+00,   0.00000000e+00,\n",
       "         1.35958755e-14,   7.43260091e-15,   0.00000000e+00,\n",
       "         1.69061970e-14,   0.00000000e+00,   0.00000000e+00,\n",
       "         1.59384703e-15,   0.00000000e+00,   1.37377554e-14,\n",
       "         0.00000000e+00])\n",
       " success: True\n",
       "     fun: 6.8938023825225899e-15\n",
       "       x: array([  0.00000000e+00,   0.00000000e+00,   1.63531652e+00,\n",
       "         0.00000000e+00,   0.00000000e+00,   7.43955873e-01,\n",
       "         0.00000000e+00,   1.37164145e+00,   0.00000000e+00,\n",
       "         0.00000000e+00,   0.00000000e+00,   0.00000000e+00,\n",
       "         0.00000000e+00,   8.41222884e-01,   0.00000000e+00,\n",
       "         0.00000000e+00,   3.92492602e+00,   1.87058316e-01,\n",
       "         7.32577637e-01,   0.00000000e+00,   8.07270245e-02,\n",
       "         0.00000000e+00,   7.62237382e-01,   0.00000000e+00,\n",
       "         2.27166704e+00,   0.00000000e+00,   0.00000000e+00,\n",
       "         1.15708549e+00,   0.00000000e+00,   0.00000000e+00,\n",
       "         0.00000000e+00,   0.00000000e+00,   2.28179219e+00,\n",
       "         4.92553635e-02,   0.00000000e+00,   0.00000000e+00,\n",
       "         0.00000000e+00,   0.00000000e+00,   3.72174661e-01,\n",
       "         0.00000000e+00,   9.31858283e-01,   0.00000000e+00,\n",
       "         0.00000000e+00,   9.56158940e-01,   0.00000000e+00,\n",
       "         0.00000000e+00,   8.32029716e-01,   0.00000000e+00,\n",
       "         0.00000000e+00,   1.85046107e+00,   0.00000000e+00,\n",
       "         1.36075092e+00,   6.08002584e-01,   0.00000000e+00,\n",
       "         0.00000000e+00,   7.17759464e-01,   0.00000000e+00,\n",
       "         1.62966892e+00,   0.00000000e+00,   0.00000000e+00,\n",
       "         0.00000000e+00,   0.00000000e+00,   0.00000000e+00,\n",
       "         4.97100953e-01,   0.00000000e+00,   8.31173119e-01,\n",
       "         0.00000000e+00,   1.40912432e+00,   0.00000000e+00,\n",
       "         0.00000000e+00,   0.00000000e+00,   0.00000000e+00,\n",
       "         0.00000000e+00,   0.00000000e+00,   8.46602650e-01,\n",
       "         4.31736009e-01,   1.18532424e+00,   0.00000000e+00,\n",
       "         0.00000000e+00,   7.57049119e-02,   0.00000000e+00,\n",
       "         0.00000000e+00,   0.00000000e+00,   0.00000000e+00,\n",
       "         0.00000000e+00,   0.00000000e+00,   0.00000000e+00,\n",
       "         0.00000000e+00,   2.39537276e-01,   0.00000000e+00,\n",
       "         3.43500221e-03,   4.00770515e+00,   0.00000000e+00,\n",
       "         0.00000000e+00,   0.00000000e+00,   0.00000000e+00,\n",
       "         1.56796941e+00,   0.00000000e+00,   2.00102826e-01,\n",
       "         7.45103377e-01,   6.89380238e-15])\n",
       " message: 'Optimization terminated successfully.'\n",
       "     nit: 81"
      ]
     },
     "execution_count": 15,
     "metadata": {},
     "output_type": "execute_result"
    }
   ],
   "source": [
    "z = np.zeros(101)\n",
    "z[-1] = 1\n",
    "\n",
    "A = np.concatenate((a, -a), axis=0)\n",
    "A = np.concatenate((A, -np.ones((70,1))), axis=1)\n",
    "\n",
    "B = np.concatenate((b, -b), axis=0)\n",
    "\n",
    "res = linprog(z, A_ub=A, b_ub=B)\n",
    "x = res.x\n",
    "res"
   ]
  },
  {
   "cell_type": "code",
   "execution_count": 16,
   "metadata": {
    "collapsed": false
   },
   "outputs": [
    {
     "data": {
      "text/plain": [
       "36"
      ]
     },
     "execution_count": 16,
     "metadata": {},
     "output_type": "execute_result"
    }
   ],
   "source": [
    "# sanity check. Should have 35-36 nonzeros (possibly \\alpha zero)\n",
    "\n",
    "np.count_nonzero(x)"
   ]
  },
  {
   "cell_type": "markdown",
   "metadata": {},
   "source": [
    "<h4>Part b</h4>\n",
    "\n",
    "Solve\n",
    "$$\\min\\limits_{u} \\| u * a - c \\|_1$$ "
   ]
  },
  {
   "cell_type": "markdown",
   "metadata": {},
   "source": [
    "Similar to the above, we know that $\\ell_1$ minimization has a closed form:\n",
    "\n",
    "$$\\min\\limits_{y} \\| y * a - c \\|_1 = \\min_x \\left\\{ \\max_i \\left\\{ |a_i x - b_i | \\right\\} \\right\\}$$ \n",
    "\n",
    "So the problem becomes $\\min_\\alpha \\left\\{ a_ix - b_i \\leq \\alpha \\wedge -a_i x + b_i \\leq \\alpha \\right\\}$."
   ]
  },
  {
   "cell_type": "code",
   "execution_count": 17,
   "metadata": {
    "collapsed": false
   },
   "outputs": [
    {
     "data": {
      "text/plain": [
       "  status: 0\n",
       "   slack: array([ 0.,  0.,  0.,  0.,  0.,  0.,  0.,  0.,  0.,  0.,  0.,  0.,  0.,\n",
       "        0.,  0.,  0.,  0.,  0.,  0.,  0.,  0.,  0.,  0.,  0.,  0.,  0.,\n",
       "        0.,  0.,  0.,  0.,  0.,  0.,  0.,  0.,  0.,  0.,  0.,  0.,  0.,\n",
       "        0.,  0.,  0.,  0.,  0.,  0.,  0.,  0.,  0.,  0.,  0.,  0.,  0.,\n",
       "        0.,  0.,  0.,  0.,  0.,  0.,  0.,  0.,  0.,  0.,  0.,  0.,  0.,\n",
       "        0.,  0.,  0.,  0.,  0.])\n",
       " success: True\n",
       "     fun: -1.4922058481996569e-14\n",
       "       x: array([  0.00000000e+00,   0.00000000e+00,   1.63531652e+00,\n",
       "         0.00000000e+00,   0.00000000e+00,   7.43955873e-01,\n",
       "         0.00000000e+00,   1.37164145e+00,   0.00000000e+00,\n",
       "         0.00000000e+00,   0.00000000e+00,   0.00000000e+00,\n",
       "         0.00000000e+00,   8.41222884e-01,   0.00000000e+00,\n",
       "         0.00000000e+00,   3.92492602e+00,   1.87058316e-01,\n",
       "         7.32577637e-01,   0.00000000e+00,   8.07270245e-02,\n",
       "         0.00000000e+00,   7.62237382e-01,   0.00000000e+00,\n",
       "         2.27166704e+00,   0.00000000e+00,   0.00000000e+00,\n",
       "         1.15708549e+00,   0.00000000e+00,   0.00000000e+00,\n",
       "         0.00000000e+00,   0.00000000e+00,   2.28179219e+00,\n",
       "         4.92553635e-02,   0.00000000e+00,   0.00000000e+00,\n",
       "         0.00000000e+00,   0.00000000e+00,   3.72174661e-01,\n",
       "         0.00000000e+00,   9.31858283e-01,   0.00000000e+00,\n",
       "         0.00000000e+00,   9.56158940e-01,   0.00000000e+00,\n",
       "         0.00000000e+00,   8.32029716e-01,   0.00000000e+00,\n",
       "         0.00000000e+00,   1.85046107e+00,   0.00000000e+00,\n",
       "         1.36075092e+00,   6.08002584e-01,   0.00000000e+00,\n",
       "         0.00000000e+00,   7.17759464e-01,   0.00000000e+00,\n",
       "         1.62966892e+00,   0.00000000e+00,   0.00000000e+00,\n",
       "         0.00000000e+00,   0.00000000e+00,   0.00000000e+00,\n",
       "         4.97100953e-01,   0.00000000e+00,   8.31173119e-01,\n",
       "         0.00000000e+00,   1.40912432e+00,   0.00000000e+00,\n",
       "         0.00000000e+00,   0.00000000e+00,   0.00000000e+00,\n",
       "         0.00000000e+00,   0.00000000e+00,   8.46602650e-01,\n",
       "         4.31736009e-01,   1.18532424e+00,   0.00000000e+00,\n",
       "         0.00000000e+00,   7.57049119e-02,   0.00000000e+00,\n",
       "         0.00000000e+00,   0.00000000e+00,   0.00000000e+00,\n",
       "         0.00000000e+00,   0.00000000e+00,   0.00000000e+00,\n",
       "         0.00000000e+00,   2.39537276e-01,   0.00000000e+00,\n",
       "         3.43500221e-03,   4.00770515e+00,   0.00000000e+00,\n",
       "         0.00000000e+00,   0.00000000e+00,   0.00000000e+00,\n",
       "         1.56796941e+00,   0.00000000e+00,   2.00102826e-01,\n",
       "         7.45103377e-01,  -8.89511408e-15,  -1.00528266e-14,\n",
       "         8.51007358e-16,   3.25329824e-16,  -2.12751839e-16,\n",
       "        -4.33661548e-15,  -7.97207539e-15,   5.78389214e-31,\n",
       "        -3.73158481e-32,   2.95292011e-15,   6.89380238e-15,\n",
       "        -5.40014774e-16,   3.48603459e-15,  -7.44778418e-16,\n",
       "         0.00000000e+00,   0.00000000e+00,  -7.46508067e-33,\n",
       "         1.21826233e-15,  -2.27411578e-17,  -4.66792057e-15,\n",
       "        -1.61336388e-15,   1.65510393e-32,   4.94093620e-31,\n",
       "         6.10178967e-18,   5.77778624e-15,   9.58646516e-17,\n",
       "         3.17750193e-15,  -2.70290163e-15,  -5.73385579e-32,\n",
       "        -2.73433703e-15,  -6.41198250e-18,   6.09687887e-15,\n",
       "        -1.32356948e-15,   2.49246703e-17,  -3.05089483e-18])\n",
       " message: 'Optimization terminated successfully.'\n",
       "     nit: 81"
      ]
     },
     "execution_count": 17,
     "metadata": {},
     "output_type": "execute_result"
    }
   ],
   "source": [
    "z = np.concatenate((np.zeros(100), np.ones(35)), axis=0)\n",
    "\n",
    "A = np.concatenate((a, -a), axis=0)\n",
    "A = np.concatenate((A, np.concatenate((-np.eye(35),-np.eye(35)), axis=0)), axis=1)\n",
    "\n",
    "B = np.concatenate((b, -b), axis=0)\n",
    "\n",
    "res = linprog(z, A_ub=A, b_ub=B)\n",
    "x = res.x\n",
    "res"
   ]
  },
  {
   "cell_type": "code",
   "execution_count": 18,
   "metadata": {
    "collapsed": false
   },
   "outputs": [
    {
     "data": {
      "text/plain": [
       "68"
      ]
     },
     "execution_count": 18,
     "metadata": {},
     "output_type": "execute_result"
    }
   ],
   "source": [
    "# sanity check. SHould have 35-70 nozeros (some \\alphas possibly zero)\n",
    "np.count_nonzero(x)"
   ]
  },
  {
   "cell_type": "markdown",
   "metadata": {},
   "source": [
    "<h4>Part c</h4>\n",
    "\n",
    "Solve\n",
    "$$\\min\\limits_{z} \\| z * a - c \\|_2$$ "
   ]
  },
  {
   "cell_type": "code",
   "execution_count": 19,
   "metadata": {
    "collapsed": false
   },
   "outputs": [
    {
     "data": {
      "text/plain": [
       "  status: 0\n",
       "    nfev: 38216\n",
       " success: True\n",
       "     fun: 0.00025419624772110593\n",
       "       x: array([ 3043.37153921,  1659.43013602, -1912.9398373 ,  1251.89990182,\n",
       "        1088.16450792, -1015.73841802,   -62.43704508, -1876.38809493,\n",
       "        2433.32807487, -3551.38163092,   392.83343809,  1869.6571407 ,\n",
       "         857.41875308, -5443.42730249,  4647.9588024 ,  1281.60242158,\n",
       "        -353.74346503,  2756.07175445, -1724.84291077, -3300.4278591 ,\n",
       "        3361.02931106, -2456.69046784,  2536.15796167, -1045.75405174,\n",
       "        4114.57386828,  1883.86686919, -1082.55724077, -5041.38754482,\n",
       "        -606.45899403,   857.28480392,  5326.71440775, -3220.63994495,\n",
       "        2296.51432061, -1753.39410267,  1988.53895952,  -594.93366662,\n",
       "       -2642.86818861,  3873.82770485, -2269.95682553, -7123.09855893,\n",
       "        1016.68772486,  1700.93089709,  3709.30926774,  1658.5327992 ,\n",
       "       -1183.04699331,  -492.46517078,   162.24368538,   918.29801799,\n",
       "         171.38566981,  -488.23264949, -2041.93655554, -1943.13636574,\n",
       "        -903.55290958,   288.08462005,   -73.36782939,  -978.4723546 ,\n",
       "       -3621.03055876, -4649.9199516 , -1869.64666163, -1485.04990195,\n",
       "        1460.9253068 ,   902.43686827, -2329.77338711,  4760.63028163,\n",
       "       -2123.39623764,  -610.88167789,  1097.13714258,  -723.55817581,\n",
       "       -1022.93812802,  -461.02629287,   720.29798158,  -539.49722415,\n",
       "        -521.1334225 ,   422.73342306,   258.78718499,  -917.30248649,\n",
       "       -2226.10981508,  -306.50823467,  -491.8241841 ,  -741.84468069,\n",
       "        2136.51934902,  -538.70599354,     7.41287955,   299.62002182,\n",
       "        -461.46829281,   327.31177616,  -200.2753732 , -1013.74963199,\n",
       "         503.05134255,  -650.23387384,  -288.86133321,   241.80376749,\n",
       "          92.46456528,  -368.35420311,  -325.20061256,    27.12938023,\n",
       "         -94.87678393,   -48.07557079,   -32.40158516,   231.47024011])\n",
       " message: 'Optimization terminated successfully.'\n",
       "     nit: 33526"
      ]
     },
     "execution_count": 19,
     "metadata": {},
     "output_type": "execute_result"
    }
   ],
   "source": [
    "# Can't do this linearly I don't think. There isn't a good quadprog implementation in python so\n",
    "# I just solved it using Nelder-Mead. I concede that this is a failing of the language. \n",
    "# Matlab does have a lot more esoteric support (thanks to ~40 years of history)\n",
    "\n",
    "def f(x):\n",
    "    return np.linalg.norm(np.dot(a,x) - b)\n",
    "\n",
    "#initial guess\n",
    "z = np.dot(np.linalg.inv(np.dot(np.transpose(a),a)), np.transpose(a))\n",
    "z = np.dot(z,b)\n",
    "\n",
    "opts = {'maxiter': 100000,'maxfev':100000}\n",
    "\n",
    "res = minimize(f,z, method=\"Nelder-Mead\", options=opts)\n",
    "res"
   ]
  },
  {
   "cell_type": "markdown",
   "metadata": {},
   "source": [
    "<h4>Part d</h4>\n",
    "\n",
    "Solve\n",
    "$$\\min\\limits_{x} \\left( \\| w * a - c \\|_1 + \\| w * a - c \\|_{\\infty} \\right)$$ "
   ]
  },
  {
   "cell_type": "code",
   "execution_count": 20,
   "metadata": {
    "collapsed": false
   },
   "outputs": [
    {
     "data": {
      "text/plain": [
       "  status: 0\n",
       "   slack: array([  0.00000000e+00,   0.00000000e+00,   0.00000000e+00,\n",
       "         0.00000000e+00,   3.48476351e-16,   0.00000000e+00,\n",
       "         0.00000000e+00,   0.00000000e+00,   0.00000000e+00,\n",
       "         0.00000000e+00,   0.00000000e+00,   0.00000000e+00,\n",
       "         0.00000000e+00,   2.20082338e-14,   0.00000000e+00,\n",
       "         0.00000000e+00,  -1.14794751e-17,   4.88087040e-15,\n",
       "         0.00000000e+00,   0.00000000e+00,   0.00000000e+00,\n",
       "         0.00000000e+00,   7.34686407e-16,   0.00000000e+00,\n",
       "         0.00000000e+00,   3.51321675e-16,   0.00000000e+00,\n",
       "         0.00000000e+00,   0.00000000e+00,   0.00000000e+00,\n",
       "         0.00000000e+00,   0.00000000e+00,   9.54032517e-15,\n",
       "         0.00000000e+00,  -1.46687977e-15,   9.72086416e-15,\n",
       "        -2.27053090e-14,   0.00000000e+00,   0.00000000e+00,\n",
       "         0.00000000e+00,  -2.68216951e-14,  -5.87257202e-16,\n",
       "        -5.39616360e-31,   1.03906550e-15,   3.22577806e-16,\n",
       "         0.00000000e+00,   1.58439779e-15,   0.00000000e+00,\n",
       "         2.58549782e-30,  -1.12021888e-16,   5.11444027e-31,\n",
       "        -4.19872561e-33,   0.00000000e+00,  -5.23812722e-15,\n",
       "         4.25958021e-14,   1.34992486e-14,   0.00000000e+00,\n",
       "         0.00000000e+00,   0.00000000e+00,   0.00000000e+00,\n",
       "         0.00000000e+00,   0.00000000e+00,   7.10275141e-31,\n",
       "         0.00000000e+00,  -3.10240675e-15,   9.86076132e-32,\n",
       "         0.00000000e+00,   5.29594433e-31,   0.00000000e+00,\n",
       "         0.00000000e+00,   0.00000000e+00,   0.00000000e+00,\n",
       "        -2.15306130e-15,  -7.59529015e-32,   0.00000000e+00,\n",
       "         0.00000000e+00,   0.00000000e+00,   0.00000000e+00,\n",
       "         0.00000000e+00,   0.00000000e+00,  -1.36987488e-15,\n",
       "         0.00000000e+00,  -4.65471205e-16,   0.00000000e+00,\n",
       "         0.00000000e+00,   0.00000000e+00,   0.00000000e+00,\n",
       "         0.00000000e+00,   0.00000000e+00,   0.00000000e+00,\n",
       "         0.00000000e+00,   0.00000000e+00,   0.00000000e+00,\n",
       "         2.14821286e-16,  -2.44891404e-14,  -3.13710692e-31,\n",
       "        -9.75858271e-15,   0.00000000e+00,  -4.92681858e-15,\n",
       "         0.00000000e+00,   0.00000000e+00,   0.00000000e+00,\n",
       "         0.00000000e+00,  -3.04624844e-16,   0.00000000e+00])\n",
       " success: True\n",
       "     fun: 4.6202274381843643e-14\n",
       "       x: array([  3.50843605e+00,   0.00000000e+00,   3.87690297e+00,\n",
       "         0.00000000e+00,  -4.20751341e+00,   0.00000000e+00,\n",
       "         3.76760703e+00,  -2.74768576e+00,   3.14730924e+00,\n",
       "         1.45462076e+00,   0.00000000e+00,   0.00000000e+00,\n",
       "         1.11330472e+00,   7.47788804e+00,   4.72470272e-01,\n",
       "         0.00000000e+00,   5.24073987e-01,   1.60181588e+00,\n",
       "         0.00000000e+00,   7.50589460e-03,   3.57768934e+00,\n",
       "         0.00000000e+00,   0.00000000e+00,   0.00000000e+00,\n",
       "         4.11675970e+00,   0.00000000e+00,   0.00000000e+00,\n",
       "         4.99953622e+00,   0.00000000e+00,   0.00000000e+00,\n",
       "         0.00000000e+00,   0.00000000e+00,   4.93971090e-01,\n",
       "         0.00000000e+00,   0.00000000e+00,   0.00000000e+00,\n",
       "         0.00000000e+00,   0.00000000e+00,   0.00000000e+00,\n",
       "         0.00000000e+00,   3.40641090e-01,   0.00000000e+00,\n",
       "         1.46235469e-01,   9.25324393e-01,   0.00000000e+00,\n",
       "         0.00000000e+00,   3.97156995e-01,   0.00000000e+00,\n",
       "         0.00000000e+00,  -3.88557734e+00,   0.00000000e+00,\n",
       "         0.00000000e+00,   1.45368581e+00,   0.00000000e+00,\n",
       "         0.00000000e+00,   1.21321521e+00,   0.00000000e+00,\n",
       "         2.20552260e+00,   0.00000000e+00,   0.00000000e+00,\n",
       "         0.00000000e+00,   0.00000000e+00,   0.00000000e+00,\n",
       "         0.00000000e+00,   0.00000000e+00,   3.27035928e-01,\n",
       "         5.07655739e-02,  -2.75862096e-01,   0.00000000e+00,\n",
       "         0.00000000e+00,   2.05321657e-02,   0.00000000e+00,\n",
       "         0.00000000e+00,   0.00000000e+00,  -8.64831119e-01,\n",
       "         0.00000000e+00,   1.87650523e+00,   0.00000000e+00,\n",
       "         0.00000000e+00,   2.04128781e+00,   0.00000000e+00,\n",
       "         0.00000000e+00,   0.00000000e+00,   0.00000000e+00,\n",
       "         0.00000000e+00,   0.00000000e+00,   1.26125433e-01,\n",
       "         0.00000000e+00,   0.00000000e+00,   0.00000000e+00,\n",
       "         0.00000000e+00,   7.07569044e+00,   0.00000000e+00,\n",
       "         0.00000000e+00,   0.00000000e+00,   0.00000000e+00,\n",
       "         5.54201857e-01,   0.00000000e+00,  -2.76172120e+00,\n",
       "         1.90355415e+00,  -9.72086416e-15,   2.27053090e-14,\n",
       "         2.15306130e-15,   7.59529015e-32,   0.00000000e+00,\n",
       "         2.68216951e-14,   5.87257202e-16,   5.39616360e-31,\n",
       "        -1.03906550e-15,   0.00000000e+00,   1.36987488e-15,\n",
       "        -1.58439779e-15,   4.65471205e-16,   0.00000000e+00,\n",
       "         1.12021888e-16,  -5.11444027e-31,   0.00000000e+00,\n",
       "         0.00000000e+00,   5.23812722e-15,  -4.25958021e-14,\n",
       "        -1.34992486e-14,   0.00000000e+00,   0.00000000e+00,\n",
       "        -2.14821286e-16,   2.44891404e-14,   0.00000000e+00,\n",
       "         9.75858271e-15,   0.00000000e+00,   4.92681858e-15,\n",
       "         3.10240675e-15,   0.00000000e+00,   2.52435490e-29,\n",
       "         0.00000000e+00,   3.04624844e-16,   0.00000000e+00,\n",
       "         0.00000000e+00])\n",
       " message: 'Optimization terminated successfully.'\n",
       "     nit: 128"
      ]
     },
     "execution_count": 20,
     "metadata": {},
     "output_type": "execute_result"
    }
   ],
   "source": [
    "z = np.concatenate((np.zeros(100), np.ones(36)))\n",
    "\n",
    "A = np.concatenate((a, -a, np.zeros((35,100))), axis=0)\n",
    "C = np.concatenate((-np.eye(35),-np.eye(35),np.eye(35)), axis=0)\n",
    "D = np.concatenate((np.zeros((70,1)),-np.zeros((35,1))), axis=0)\n",
    "E = np.concatenate((A,C,D), axis=1)\n",
    "\n",
    "B = np.concatenate((b, -b, np.zeros(35)), axis=0)\n",
    "\n",
    "res = linprog(z, A_ub=E, b_ub=B)\n",
    "res"
   ]
  },
  {
   "cell_type": "markdown",
   "metadata": {},
   "source": [
    "<h2>Problem #3</h2>\n",
    "\n",
    "Express the max flow problem given in the homework assignment as a linear program and solve it. "
   ]
  },
  {
   "cell_type": "markdown",
   "metadata": {
    "collapsed": true
   },
   "source": [
    "We know that if $y = (y_1, \\dots, y_8)$ is the vector of flows given in the diagram, the LP is \n",
    "\n",
    "$$\n",
    "\\begin{align*}\n",
    "\\max\\limits_\\mathbf{y} \\; & y_7 + y_8 \\\\\n",
    "\\text{such that } & y_1 - y_3 - y_4 = 0 \\\\\n",
    "& y_2 - y_5 - y_6 = 0 \\\\\n",
    "& y_3 + y_5 - y_7 = 0 \\\\\n",
    "& y_4 + y_6 - y_8 = 0 \\\\ \\\\\n",
    "\\text{and } & 0 \\leq \\mathbf{y} \\leq \\begin{bmatrix}13\\\\12\\\\5\\\\1\\\\7\\\\1\\\\6\\\\4\\end{bmatrix}\n",
    "\\end{align*}\n",
    "$$\n",
    "\n",
    " "
   ]
  },
  {
   "cell_type": "code",
   "execution_count": 21,
   "metadata": {
    "collapsed": false
   },
   "outputs": [
    {
     "data": {
      "text/plain": [
       "  status: 0\n",
       "   slack: array([  7.,  10.,   0.,   0.,   6.,   0.,   0.,   2.])\n",
       " success: True\n",
       "     fun: -8.0\n",
       "       x: array([ 6.,  2.,  5.,  1.,  1.,  1.,  6.,  2.])\n",
       " message: 'Optimization terminated successfully.'\n",
       "     nit: 8"
      ]
     },
     "execution_count": 21,
     "metadata": {},
     "output_type": "execute_result"
    }
   ],
   "source": [
    "z = np.concatenate((np.zeros(6), -np.ones(2)))\n",
    "A = np.zeros((4,8))\n",
    "A[0] = np.array([1,0,-1,-1,0,0,0,0])\n",
    "A[1] = np.array([0,1,0,0,-1,-1,0,0])\n",
    "A[2] = np.array([0,0,1,0,1,0,-1,0])\n",
    "A[3] = np.array([0,0,0,1,0,1,0,-1])\n",
    "\n",
    "B = np.zeros(4)\n",
    "\n",
    "bounds = [(0,ub) for ub in (13,12,5,1,7,1,6,4)]\n",
    "\n",
    "res = linprog(z, A_eq=A, b_eq=B, bounds=bounds)\n",
    "res"
   ]
  },
  {
   "cell_type": "markdown",
   "metadata": {},
   "source": [
    "<h2>Problem #4</h2>\n",
    "\n",
    "Construct the associated dual problem to the above problem and solve it."
   ]
  },
  {
   "cell_type": "markdown",
   "metadata": {
    "collapsed": true
   },
   "source": [
    "We know that the dual to a Max-Flow problem is a Min-Cut problem. "
   ]
  },
  {
   "cell_type": "code",
   "execution_count": 22,
   "metadata": {
    "collapsed": false
   },
   "outputs": [
    {
     "data": {
      "text/plain": [
       "  status: 0\n",
       "   slack: array([ 0.,  0.,  0.,  0.,  0.,  0.,  0.,  0.,  0.])\n",
       " success: True\n",
       "     fun: 8.0\n",
       "       x: array([ 0.,  0.,  0.,  1.,  0.,  1.,  1.,  0.,  1.,  1.,  1.,  1.,  0.,  0.])\n",
       " message: 'Optimization terminated successfully.'\n",
       "     nit: 11"
      ]
     },
     "execution_count": 22,
     "metadata": {},
     "output_type": "execute_result"
    }
   ],
   "source": [
    "z = np.array([13,12,5,1,7,1,6,4])\n",
    "z = np.concatenate((z,np.zeros(6)), axis=0)\n",
    "A = np.concatenate((-np.eye(8),np.zeros((1,8))),axis=0)\n",
    "\n",
    "B = np.zeros((9,6))\n",
    "B[0] = np.array([1,-1,0,0,0,0])\n",
    "B[1] = np.array([1,0,-1,0,0,0])\n",
    "B[2] = np.array([0,1,0,-1,0,0])\n",
    "B[3] = np.array([0,1,0,0,-1,0])\n",
    "B[4] = np.array([0,0,1,-1,0,0])\n",
    "B[5] = np.array([0,0,1,0,-1,0])\n",
    "B[6] = np.array([0,0,0,1,0,-1])\n",
    "B[7] = np.array([0,0,0,0,1,-1])\n",
    "B[8] = np.array([-1,0,0,0,0,1])\n",
    "\n",
    "A = np.concatenate((A,B), axis=1)\n",
    "\n",
    "b = np.zeros(9)\n",
    "b[8]=-1\n",
    "\n",
    "res = linprog(z, A_ub=A, b_ub=b)\n",
    "res"
   ]
  },
  {
   "cell_type": "markdown",
   "metadata": {},
   "source": [
    "<h2>Problem #5</h2>\n",
    "\n",
    "Consider the three sets:\n",
    "\n",
    "$$A = \\{(x_1,x_2,x_3) \\mid x_1 + x_2 + x_3 = 30 \\}$$\n",
    "\n",
    "$$B = \\{(x_1,x_2,x_3) \\mid x_1^2 + 2x_2^4 + 3x_3^2 = 2 \\}$$\n",
    "\n",
    "$$C = \\{(x_1,x_2,x_3) \\mid 2(x_1 + 40)^2 + (x_2 - 30)^2 + (x_3 + 20)^4 = 1 \\}$$\n",
    "\n",
    "What points $a \\in A$, $b \\in B$, and $c \\in C$ minimize $\\|a-b\\|_2^2 + \\|c-b\\|_2^2 + \\|a-c\\|_2^2$?"
   ]
  },
  {
   "cell_type": "code",
   "execution_count": 23,
   "metadata": {
    "collapsed": false
   },
   "outputs": [
    {
     "data": {
      "text/plain": [
       "  status: 0\n",
       " success: True\n",
       "    njev: 25\n",
       "    nfev: 276\n",
       "     fun: 122.85394985401972\n",
       "       x: array([ -0.68418934,  23.88830524,   6.7958841 ,  -1.04989467,\n",
       "         0.81727064,  -0.0426497 , -39.46533138,  29.53888329, -19.31856011])\n",
       " message: 'Optimization terminated successfully.'\n",
       "     jac: array([ 0.83867455,  0.83867264,  0.83867168,  0.72794056, -1.51426888,\n",
       "        0.08872986, -1.5666151 ,  0.67559528, -0.92740059,  0.        ])\n",
       "     nit: 25"
      ]
     },
     "execution_count": 23,
     "metadata": {},
     "output_type": "execute_result"
    }
   ],
   "source": [
    "def g(a):\n",
    "    return np.linalg.norm(a[0:3] - a[3:6]) + np.linalg.norm(a[6:9] - a[3:6]) + np.linalg.norm(a[0:3] - a[6:9])\n",
    "\n",
    "def h(a):\n",
    "    return a[0] + a[1] + a[2] - 30\n",
    "\n",
    "def i(a):\n",
    "    return a[3]**2 + 2*a[4]**4 + 3*a[5]**2 - 2\n",
    "\n",
    "def j(a):\n",
    "    return 2*(a[6] + 40)**2 + (a[7] -30)**2 + (a[8] + 20)**4 - 1\n",
    "\n",
    "const = ({\"type\":\"eq\", \"fun\":h}, {\"type\":\"eq\", \"fun\":i}, {\"type\":\"eq\", \"fun\":j})\n",
    "opts = {'maxiter': 100000}\n",
    "\n",
    "# compute minimum using Sequential Least SQuares Programming\n",
    "\n",
    "res = minimize(g,np.array([10,10,10,2,0,0,0,29,0]), method=\"SLSQP\", constraints=const, options=opts)\n",
    "x = res.x\n",
    "res"
   ]
  },
  {
   "cell_type": "code",
   "execution_count": 24,
   "metadata": {
    "collapsed": false
   },
   "outputs": [
    {
     "data": {
      "text/plain": [
       "0.0"
      ]
     },
     "execution_count": 24,
     "metadata": {},
     "output_type": "execute_result"
    }
   ],
   "source": [
    "# sanity check\n",
    "h(x)"
   ]
  },
  {
   "cell_type": "code",
   "execution_count": 25,
   "metadata": {
    "collapsed": false
   },
   "outputs": [
    {
     "data": {
      "text/plain": [
       "2.1962522422924735e-07"
      ]
     },
     "execution_count": 25,
     "metadata": {},
     "output_type": "execute_result"
    }
   ],
   "source": [
    "i(x)"
   ]
  },
  {
   "cell_type": "code",
   "execution_count": 26,
   "metadata": {
    "collapsed": false
   },
   "outputs": [
    {
     "data": {
      "text/plain": [
       "1.9421593822066541e-07"
      ]
     },
     "execution_count": 26,
     "metadata": {},
     "output_type": "execute_result"
    }
   ],
   "source": [
    "j(x)"
   ]
  },
  {
   "cell_type": "code",
   "execution_count": null,
   "metadata": {
    "collapsed": true
   },
   "outputs": [],
   "source": []
  }
 ],
 "metadata": {
  "kernelspec": {
   "display_name": "Python 2",
   "language": "python",
   "name": "python2"
  },
  "language_info": {
   "codemirror_mode": {
    "name": "ipython",
    "version": 2
   },
   "file_extension": ".py",
   "mimetype": "text/x-python",
   "name": "python",
   "nbconvert_exporter": "python",
   "pygments_lexer": "ipython2",
   "version": "2.7.10"
  }
 },
 "nbformat": 4,
 "nbformat_minor": 0
}
